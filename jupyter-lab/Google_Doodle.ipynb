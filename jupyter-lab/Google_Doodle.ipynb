{
  "cells": [
    {
      "cell_type": "code",
      "execution_count": 1,
      "metadata": {
        "id": "9T9Rj42pPaDh"
      },
      "outputs": [],
      "source": [
        "import numpy as np\n",
        "import tensorflow as tf\n",
        "import urllib\n",
        "import sys\n",
        "import numpy as np\n",
        "import matplotlib.pyplot as plt\n",
        "import matplotlib.image as mpimg\n",
        "from PIL import Image\n",
        "import cv2\n",
        "import os\n",
        "import glob\n",
        "from tensorflow import keras\n",
        "import random\n",
        "from time import sleep\n",
        "import cv2\n",
        "from sklearn.preprocessing import MinMaxScaler\n",
        "from skimage.color import rgba2rgb\n",
        "from skimage import data\n",
        "from numpy.random.mtrand import rand\n",
        "%matplotlib inline"
      ]
    },
    {
      "cell_type": "markdown",
      "metadata": {
        "id": "OwartnS_cn9W"
      },
      "source": []
    },
    {
      "cell_type": "code",
      "execution_count": 2,
      "metadata": {
        "colab": {
          "base_uri": "https://localhost:8080/"
        },
        "id": "hPCXuLjoPaqq",
        "outputId": "60744d46-b15d-4319-f0b1-52845bba5ecc"
      },
      "outputs": [
        {
          "name": "stdout",
          "output_type": "stream",
          "text": [
            "--2022-03-20 10:08:50--  https://raw.githubusercontent.com/zaidalyafeai/zaidalyafeai.github.io/master/sketcher/mini_classes.txt\n",
            "Resolving raw.githubusercontent.com (raw.githubusercontent.com)... 185.199.108.133, 185.199.109.133, 185.199.110.133, ...\n",
            "Connecting to raw.githubusercontent.com (raw.githubusercontent.com)|185.199.108.133|:443... connected.\n",
            "HTTP request sent, awaiting response... 200 OK\n",
            "Length: 760 [text/plain]\n",
            "Saving to: ‘mini_classes.txt.1’\n",
            "\n",
            "\rmini_classes.txt.1    0%[                    ]       0  --.-KB/s               \rmini_classes.txt.1  100%[===================>]     760  --.-KB/s    in 0s      \n",
            "\n",
            "2022-03-20 10:08:51 (28.8 MB/s) - ‘mini_classes.txt.1’ saved [760/760]\n",
            "\n"
          ]
        }
      ],
      "source": [
        "!wget 'https://raw.githubusercontent.com/zaidalyafeai/zaidalyafeai.github.io/master/sketcher/mini_classes.txt'"
      ]
    },
    {
      "cell_type": "code",
      "execution_count": 3,
      "metadata": {
        "id": "de8LBv1hau1w"
      },
      "outputs": [],
      "source": [
        "with open(\"mini_classes.txt\",\"r\") as f:\n",
        "    classes = f.read()\n",
        "    f.close()\n",
        "classes = classes.split('\\n')"
      ]
    },
    {
      "cell_type": "code",
      "execution_count": 4,
      "metadata": {
        "id": "Ub7Ifq3ScI9g"
      },
      "outputs": [],
      "source": [
        "def black_and_white(img):\n",
        "  for i in range(img.shape[0]):\n",
        "    for j in range(img.shape[1]):\n",
        "      if img[i][j] > 0:\n",
        "        img[i][j] = 1\n",
        "      else: \n",
        "        img[i][j] = 0\n",
        "\n",
        "  return img\n"
      ]
    },
    {
      "cell_type": "code",
      "execution_count": 5,
      "metadata": {
        "colab": {
          "base_uri": "https://localhost:8080/",
          "height": 242
        },
        "id": "Ij_kg-37Pinr",
        "outputId": "6ae15009-3e6b-4bad-f5a4-34ddbd8a4c49"
      },
      "outputs": [
        {
          "ename": "FileExistsError",
          "evalue": "ignored",
          "output_type": "error",
          "traceback": [
            "\u001b[0;31m---------------------------------------------------------------------------\u001b[0m",
            "\u001b[0;31mFileExistsError\u001b[0m                           Traceback (most recent call last)",
            "\u001b[0;32m<ipython-input-5-89a94cd4eeb3>\u001b[0m in \u001b[0;36m<module>\u001b[0;34m()\u001b[0m\n\u001b[1;32m      1\u001b[0m \u001b[0mbase\u001b[0m \u001b[0;34m=\u001b[0m \u001b[0;34m'https://storage.googleapis.com/quickdraw_dataset/full/numpy_bitmap/'\u001b[0m\u001b[0;34m\u001b[0m\u001b[0;34m\u001b[0m\u001b[0m\n\u001b[0;32m----> 2\u001b[0;31m \u001b[0mos\u001b[0m\u001b[0;34m.\u001b[0m\u001b[0mmkdir\u001b[0m\u001b[0;34m(\u001b[0m\u001b[0;34m'dataset'\u001b[0m\u001b[0;34m)\u001b[0m\u001b[0;34m\u001b[0m\u001b[0;34m\u001b[0m\u001b[0m\n\u001b[0m\u001b[1;32m      3\u001b[0m \u001b[0;32mfor\u001b[0m \u001b[0mc\u001b[0m \u001b[0;32min\u001b[0m \u001b[0mclasses\u001b[0m\u001b[0;34m:\u001b[0m\u001b[0;34m\u001b[0m\u001b[0;34m\u001b[0m\u001b[0m\n\u001b[1;32m      4\u001b[0m         \u001b[0mcls_url\u001b[0m \u001b[0;34m=\u001b[0m \u001b[0mc\u001b[0m\u001b[0;34m.\u001b[0m\u001b[0mreplace\u001b[0m\u001b[0;34m(\u001b[0m\u001b[0;34m'_'\u001b[0m\u001b[0;34m,\u001b[0m \u001b[0;34m'%20'\u001b[0m\u001b[0;34m)\u001b[0m\u001b[0;34m\u001b[0m\u001b[0;34m\u001b[0m\u001b[0m\n\u001b[1;32m      5\u001b[0m         \u001b[0mpath\u001b[0m \u001b[0;34m=\u001b[0m \u001b[0mbase\u001b[0m \u001b[0;34m+\u001b[0m \u001b[0mcls_url\u001b[0m \u001b[0;34m+\u001b[0m \u001b[0;34m'.npy'\u001b[0m\u001b[0;34m\u001b[0m\u001b[0;34m\u001b[0m\u001b[0m\n",
            "\u001b[0;31mFileExistsError\u001b[0m: [Errno 17] File exists: 'dataset'"
          ]
        }
      ],
      "source": [
        "base = 'https://storage.googleapis.com/quickdraw_dataset/full/numpy_bitmap/'\n",
        "os.mkdir('dataset')\n",
        "for c in classes:\n",
        "        cls_url = c.replace('_', '%20')\n",
        "        path = base + cls_url + '.npy'\n",
        "        try:\n",
        "          urllib.request.urlretrieve(path, 'dataset/'+c+'.npy')\n",
        "        except:\n",
        "          print(cls_url)"
      ]
    },
    {
      "cell_type": "markdown",
      "metadata": {
        "id": "qVar-7psw-Uv"
      },
      "source": []
    },
    {
      "cell_type": "code",
      "execution_count": 8,
      "metadata": {
        "id": "0rGo8dgsRggO"
      },
      "outputs": [],
      "source": [
        "def get_data(start_point,end_point,max_items=4000,tratio=0.2):\n",
        "\n",
        "  all_files = os.listdir('dataset/')\n",
        "  all_files = ['dataset/' + i for i in all_files]\n",
        "  x = np.empty((max_items * len(all_files),784))\n",
        "  y = np.empty((max_items * len(all_files)))\n",
        "  class_names = []\n",
        "\n",
        "  for index, file_name in enumerate(all_files):\n",
        "    try:\n",
        "      data = np.load(file_name)\n",
        "      data = data[start_point:end_point,:]\n",
        "\n",
        "      for i in range(data.shape[0]):\n",
        "        for j in range(28*28):\n",
        "          if data[i][j] > 0:\n",
        "            data[i][j] = 1\n",
        "          else: \n",
        "            data[i][j] = 0      \n",
        "      \n",
        "      labels = np.full(data.shape[0],index)\n",
        "\n",
        "      x[index *max_items:(index+1) *max_items ,:] = data\n",
        "      y[index *max_items:(index+1) *max_items] = labels\n",
        "      \n",
        "      class_name, ext = os.path.splitext(os.path.basename(file_name))\n",
        "      class_names.append(class_name)\n",
        "\n",
        "    except BaseException as err:\n",
        "      print(err)\n",
        "\n",
        "  np.random.seed(1)\n",
        "  random_list = np.random.permutation(y.shape[0])\n",
        "  x = x[random_list,:]\n",
        "  y = y[random_list]\n",
        "\n",
        "  tratio = int(x.shape[0]*tratio)\n",
        "\n",
        "  x_test = x[:tratio,:]\n",
        "  y_test = y[:tratio]\n",
        "  x_train = x[tratio:,:]\n",
        "  y_train = y[tratio:]\n",
        "\n",
        "  return x_train,y_train,x_test,y_test,class_names\n"
      ]
    },
    {
      "cell_type": "markdown",
      "metadata": {
        "id": "b4nUCb7PaNGC"
      },
      "source": []
    },
    {
      "cell_type": "code",
      "execution_count": 9,
      "metadata": {
        "id": "95Ybsq1KwC3L"
      },
      "outputs": [],
      "source": [
        "def scale_data(x_train,x_test):\n",
        "\n",
        "  scaler = MinMaxScaler()\n",
        "  scaler.fit(x_train)\n",
        "  x_train = scaler.transform(x_train)\n",
        "  if len(x_test):\n",
        "    x_test = scaler.transform(x_test)\n",
        "  return x_train,x_test"
      ]
    },
    {
      "cell_type": "code",
      "execution_count": 10,
      "metadata": {
        "id": "f4qNkcFle0je"
      },
      "outputs": [],
      "source": [
        "def reshape_data(x_train,x_test):\n",
        "  x_train = x_train.reshape(x_train.shape[0],28,28,1).astype('float32')\n",
        "  x_test = x_test.reshape(x_test.shape[0],28,28,1).astype('float32')\n",
        "  return x_train,x_test"
      ]
    },
    {
      "cell_type": "code",
      "execution_count": 11,
      "metadata": {
        "id": "KY1cMYHAcisB"
      },
      "outputs": [],
      "source": [
        "def classification(y_train,y_test):\n",
        "  num_classes = len(class_names)\n",
        "  y_train = tf.keras.utils.to_categorical(y_train,num_classes)\n",
        "  y_test = tf.keras.utils.to_categorical(y_test,num_classes)\n",
        "  return y_train,y_test"
      ]
    },
    {
      "cell_type": "code",
      "execution_count": 12,
      "metadata": {
        "id": "lYMQQw-Fno6B"
      },
      "outputs": [],
      "source": [
        "model = tf.keras.Sequential()\n",
        "model.add(tf.keras.layers.Convolution2D(16, (3, 3),\n",
        "                        padding='same',\n",
        "                        input_shape=(28,28,1), activation='relu'))\n",
        "model.add(tf.keras.layers.MaxPooling2D(pool_size=(2, 2)))\n",
        "model.add(tf.keras.layers.Convolution2D(32, (3, 3), padding='same', activation= 'relu'))\n",
        "model.add(tf.keras.layers.MaxPooling2D(pool_size=(2, 2)))\n",
        "model.add(tf.keras.layers.Convolution2D(64, (3, 3), padding='same', activation= 'relu'))\n",
        "model.add(tf.keras.layers.MaxPooling2D(pool_size =(2,2)))\n",
        "model.add(tf.keras.layers.Flatten())\n",
        "model.add(tf.keras.layers.Dense(128, activation='relu'))\n",
        "model.add(tf.keras.layers.Dense(100, activation='softmax')) "
      ]
    },
    {
      "cell_type": "code",
      "execution_count": 13,
      "metadata": {
        "colab": {
          "base_uri": "https://localhost:8080/"
        },
        "id": "RzuqoZPSoWbA",
        "outputId": "7f2249c4-4fcc-4104-a6c2-2287814d7ce4"
      },
      "outputs": [
        {
          "name": "stdout",
          "output_type": "stream",
          "text": [
            "Model: \"sequential_1\"\n",
            "_________________________________________________________________\n",
            " Layer (type)                Output Shape              Param #   \n",
            "=================================================================\n",
            " conv2d_3 (Conv2D)           (None, 28, 28, 16)        160       \n",
            "                                                                 \n",
            " max_pooling2d_3 (MaxPooling  (None, 14, 14, 16)       0         \n",
            " 2D)                                                             \n",
            "                                                                 \n",
            " conv2d_4 (Conv2D)           (None, 14, 14, 32)        4640      \n",
            "                                                                 \n",
            " max_pooling2d_4 (MaxPooling  (None, 7, 7, 32)         0         \n",
            " 2D)                                                             \n",
            "                                                                 \n",
            " conv2d_5 (Conv2D)           (None, 7, 7, 64)          18496     \n",
            "                                                                 \n",
            " max_pooling2d_5 (MaxPooling  (None, 3, 3, 64)         0         \n",
            " 2D)                                                             \n",
            "                                                                 \n",
            " flatten_1 (Flatten)         (None, 576)               0         \n",
            "                                                                 \n",
            " dense_2 (Dense)             (None, 128)               73856     \n",
            "                                                                 \n",
            " dense_3 (Dense)             (None, 100)               12900     \n",
            "                                                                 \n",
            "=================================================================\n",
            "Total params: 110,052\n",
            "Trainable params: 110,052\n",
            "Non-trainable params: 0\n",
            "_________________________________________________________________\n",
            "None\n"
          ]
        }
      ],
      "source": [
        "model.compile(loss= 'categorical_crossentropy',\n",
        "              optimizer = tf.optimizers.Adam(),\n",
        "              metrics = ['top_k_categorical_accuracy'])\n",
        "print(model.summary())"
      ]
    },
    {
      "cell_type": "code",
      "execution_count": null,
      "metadata": {
        "id": "3BU91GY13xme"
      },
      "outputs": [],
      "source": [
        "model.save('model.h5')"
      ]
    },
    {
      "cell_type": "code",
      "execution_count": 14,
      "metadata": {
        "id": "RzU8_rxVzVAO"
      },
      "outputs": [],
      "source": [
        "model = tf.keras.models.load_model('new_model20.h5')"
      ]
    },
    {
      "cell_type": "code",
      "execution_count": 16,
      "metadata": {
        "colab": {
          "base_uri": "https://localhost:8080/"
        },
        "id": "CW7aYKOw2CPH",
        "outputId": "2e92b73a-8430-4ffe-927d-d4f3f3675912"
      },
      "outputs": [
        {
          "name": "stdout",
          "output_type": "stream",
          "text": [
            "1563/1563 [==============================] - 374s 239ms/step - loss: 0.8778 - top_k_categorical_accuracy: 0.9310\n",
            "1563/1563 [==============================] - 251s 160ms/step - loss: 0.8749 - top_k_categorical_accuracy: 0.9319\n"
          ]
        }
      ],
      "source": [
        "for i in range(22,24):\n",
        "  max_items = 4000\n",
        "  try:\n",
        "    x_train,y_train,x_test,y_test,class_names = get_data(i*max_items,(i+1)*max_items,max_items=max_items,tratio=0)\n",
        "    sleep(30)\n",
        "   \n",
        "    x_train,x_test = reshape_data(x_train,x_test)\n",
        "    y_train,y_test = classification(y_train,y_test)\n",
        "    model.fit(x_train, y_train, batch_size=256, epochs=1)\n",
        "  except BaseException as err:\n",
        "      print(i)\n",
        "      model.save('model.h5')\n",
        "  model.save(f'new_model{i}.h5')\n",
        "  del x_train,y_train,x_test,y_test,class_names"
      ]
    },
    {
      "cell_type": "code",
      "execution_count": 20,
      "metadata": {
        "colab": {
          "base_uri": "https://localhost:8080/"
        },
        "id": "6PRsDYe3_uOc",
        "outputId": "39d43765-248b-4cea-a921-2a513a8f70d5"
      },
      "outputs": [
        {
          "name": "stdout",
          "output_type": "stream",
          "text": [
            "  adding: models/ (stored 0%)\n",
            "  adding: models/new_model18.h5 (deflated 20%)\n",
            "  adding: models/new_model16.h5 (deflated 21%)\n",
            "  adding: models/new_model14.h5 (deflated 21%)\n",
            "  adding: models/new_model15.h5 (deflated 21%)\n",
            "  adding: models/new_model12.h5 (deflated 21%)\n",
            "  adding: models/new_model17.h5 (deflated 20%)\n",
            "  adding: models/new_model13.h5 (deflated 21%)\n",
            "  adding: models/new_model23.h5 (deflated 20%)\n",
            "  adding: models/new_model22.h5 (deflated 20%)\n",
            "  adding: models/new_model21.h5 (deflated 20%)\n",
            "  adding: models/new_model20.h5 (deflated 20%)\n",
            "  adding: models/new_model11.h5 (deflated 21%)\n",
            "  adding: models/new_model19.h5 (deflated 20%)\n"
          ]
        }
      ],
      "source": [
        "!zip -r models.zip models"
      ]
    },
    {
      "cell_type": "code",
      "execution_count": 19,
      "metadata": {
        "id": "uOek_sc7BwcR"
      },
      "outputs": [],
      "source": [
        "!cp new_model*.h5 models"
      ]
    },
    {
      "cell_type": "code",
      "execution_count": null,
      "metadata": {
        "id": "4esrUIDm-Cxw"
      },
      "outputs": [],
      "source": [
        "from google.colab import drive\n",
        "drive.mount('/content/drive')"
      ]
    },
    {
      "cell_type": "code",
      "execution_count": null,
      "metadata": {
        "colab": {
          "base_uri": "https://localhost:8080/",
          "height": 319
        },
        "id": "UfPJd09y8jyj",
        "outputId": "3dcd7dee-820f-49af-8137-f74f215041f8"
      },
      "outputs": [
        {
          "name": "stdout",
          "output_type": "stream",
          "text": [
            "predicted as rifle \n",
            "Real is rifle\n"
          ]
        },
        {
          "data": {
            "text/plain": [
              "<matplotlib.image.AxesImage at 0x7fd36c5f32d0>"
            ]
          },
          "execution_count": 291,
          "metadata": {},
          "output_type": "execute_result"
        },
        {
          "data": {
            "image/png": "[encoded data removed]",
            "text/plain": [
              "<Figure size 432x288 with 1 Axes>"
            ]
          },
          "metadata": {
            "needs_background": "light"
          },
          "output_type": "display_data"
        }
      ],
      "source": [
        "idx = random.randint(0, len(x_test))\n",
        "x_pred = np.reshape(x_test[idx],(1,28,28,1))\n",
        "result = model.predict(x_pred)\n",
        "index = np.argmax(result,axis =1)[0]\n",
        "print(\"predicted as %s \"%class_names[index])\n",
        "print(\"Real is %s\" %class_names[np.argmax(y_test[idx])])\n",
        "plt.imshow(np.reshape(x_test[idx],(28,28)))"
      ]
    },
    {
      "cell_type": "code",
      "execution_count": null,
      "metadata": {
        "id": "5h2ZGzeNiDSD"
      },
      "outputs": [],
      "source": [
        "def array_equal(arr1):\n",
        "   empty_x = np.array([0. for i in range(arr1.shape[0])])\n",
        "   comparison = arr1 == empty_x\n",
        "   equal_arrays = comparison.all()\n",
        "   return equal_arrays"
      ]
    },
    {
      "cell_type": "code",
      "execution_count": null,
      "metadata": {
        "id": "j8IrUGLYi1sJ"
      },
      "outputs": [],
      "source": [
        "def resize_arr(arr):\n",
        "  x1 = 0\n",
        "  x2 = arr.shape[0]\n",
        "  y1 = 0\n",
        "  y2 = arr.shape[1]\n",
        "\n",
        "  for i in range(arr.shape[0]):\n",
        "    if not array_equal(arr[i,:]):\n",
        "      x1 = i -1\n",
        "      break;\n",
        "  for i in range(arr.shape[0]-1,-1,-1):\n",
        "    if not array_equal(arr[i,:]):\n",
        "      x2 = i + 2 \n",
        "      break;\n",
        "  for j in range(arr.shape[1]):\n",
        "    if not array_equal(arr[:,j]):\n",
        "      y1 = j - 1\n",
        "      break;\n",
        "  for j in range(arr.shape[1]-1,-1,-1):\n",
        "    if not array_equal(arr[:,j]):\n",
        "      y2 = j + 2\n",
        "      break;\n",
        "\n",
        "  return arr[x1:x2,y1:y2]"
      ]
    },
    {
      "cell_type": "code",
      "execution_count": null,
      "metadata": {
        "id": "RLReJCb6ian0"
      },
      "outputs": [],
      "source": [
        "def padding(arr):\n",
        "  max_shape = max(arr.shape)\n",
        "  min_shape = min(arr.shape)\n",
        "  padding = max_shape - min_shape\n",
        "\n",
        "  if (max_shape == min_shape):\n",
        "    return arr;\n",
        "\n",
        "  elif (arr.shape[0] == max_shape):\n",
        "    if padding % 2 == 1: \n",
        "      arr = np.pad(arr, ((0, 0), (padding//2 + 1, padding//2)))\n",
        "    else:\n",
        "      arr = np.pad(arr, ((0, 0), (padding//2, padding//2)))\n",
        "\n",
        "  elif (arr.shape[1] == max_shape):\n",
        "    if padding % 2 == 1: \n",
        "      arr = np.pad(arr, ((padding//2 + 1, padding//2), (0, 0)))\n",
        "    else:\n",
        "      arr = np.pad(arr, ((padding//2, padding//2), (0, 0)))\n",
        "  return arr"
      ]
    },
    {
      "cell_type": "code",
      "execution_count": null,
      "metadata": {
        "colab": {
          "base_uri": "https://localhost:8080/",
          "height": 283
        },
        "id": "YqqoouZhD7IT",
        "outputId": "a9d23b0b-7d80-4ccd-f6d6-faa13436ecda"
      },
      "outputs": [
        {
          "name": "stdout",
          "output_type": "stream",
          "text": [
            "(28, 28)\n"
          ]
        },
        {
          "data": {
            "image/png": "[encoded data removed]",
            "text/plain": [
              "<Figure size 432x288 with 1 Axes>"
            ]
          },
          "metadata": {
            "needs_background": "light"
          },
          "output_type": "display_data"
        }
      ],
      "source": [
        "def remove_alpha_channel(path):\n",
        "  img = cv2.imread(path, cv2.IMREAD_UNCHANGED)\n",
        "  img = rgba2rgb(img)\n",
        "  img = np.array(img, dtype=np.float32)\n",
        "  resized = cv2.cvtColor(img, cv2.COLOR_RGB2GRAY)\n",
        "  resized[:,:] = 1 - resized[:,:]\n",
        "  resized = black_and_white(resized)\n",
        "  resized = resize_arr(resized)\n",
        "  resized = padding(resized)\n",
        "  resized = cv2.resize(resized, (26,26), interpolation = cv2.INTER_AREA)\n",
        "  resized = black_and_white(resized)\n",
        "  resized = np.pad(resized, ((1, 1), (1, 1)))\n",
        "  return resized\n",
        "\n",
        "tmp_resized = remove_alpha_channel('image.png')\n",
        "plt.imshow(tmp_resized)\n",
        "print(tmp_resized.shape)"
      ]
    },
    {
      "cell_type": "code",
      "execution_count": null,
      "metadata": {
        "colab": {
          "base_uri": "https://localhost:8080/"
        },
        "id": "WXBxTykTbqRZ",
        "outputId": "90aa20bf-656e-4619-95b6-2b083daaa382"
      },
      "outputs": [
        {
          "name": "stdout",
          "output_type": "stream",
          "text": [
            "cloud 29.885834455490112\n"
          ]
        }
      ],
      "source": [
        "x_pred = np.reshape(tmp_resized,(1,28,28,1))\n",
        "result = model.predict(x_pred)\n",
        "index = np.argmax(result,axis =1)[0]\n",
        "print(class_names[index],np.max(result,axis =1)[0]*100)"
      ]
    },
    {
      "cell_type": "code",
      "execution_count": null,
      "metadata": {
        "id": "pqcZN5U_HuKN"
      },
      "outputs": [],
      "source": [
        "with open('class_names.txt','w') as f:\n",
        "  for i in range(len(class_names)):\n",
        "    f.write(class_names[i] + '\\n')"
      ]
    },
    {
      "cell_type": "code",
      "execution_count": null,
      "metadata": {
        "colab": {
          "base_uri": "https://localhost:8080/",
          "height": 283
        },
        "id": "_O1e_f9IS0KO",
        "outputId": "ca411ca8-bd07-4de7-bad5-6effa1a6a593"
      },
      "outputs": [
        {
          "data": {
            "text/plain": [
              "<matplotlib.image.AxesImage at 0x7fd36a24c310>"
            ]
          },
          "execution_count": 280,
          "metadata": {},
          "output_type": "execute_result"
        },
        {
          "data": {
            "image/png": "[encoded data removed]",
            "text/plain": [
              "<Figure size 432x288 with 1 Axes>"
            ]
          },
          "metadata": {
            "needs_background": "light"
          },
          "output_type": "display_data"
        }
      ],
      "source": [
        "tmp = np.load('dataset/cloud.npy')\n",
        "plt.imshow(np.reshape(tmp[47885],(28,28)))"
      ]
    }
  ],
  "metadata": {
    "colab": {
      "collapsed_sections": [],
      "name": "Google_Doodle",
      "provenance": []
    },
    "kernelspec": {
      "display_name": "Python 3",
      "name": "python3"
    }
  },
  "nbformat": 4,
  "nbformat_minor": 0
}
