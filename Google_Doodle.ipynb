
{
 "cells": [
  {
   "cell_type": "code",
   "execution_count": 27,
   "metadata": {
    "id": "9T9Rj42pPaDh"
   },
   "outputs": [],
   "source": [
    "import numpy as np \n",
    "import tensorflow as tf\n",
    "import urllib\n",
    "import numpy as np\n",
    "import matplotlib.pyplot as plt\n",
    "import matplotlib.image as mpimg\n",
    "from PIL import Image\n",
    "import cv2\n",
    "import os\n",
    "import glob\n",
    "from tensorflow import keras\n",
    "import random\n",
    "%matplotlib inline"
   ]
  },
  {
   "cell_type": "code",
   "execution_count": 5,
   "metadata": {
    "colab": {
     "base_uri": "https://localhost:8080/"
    },
    "id": "hPCXuLjoPaqq",
    "outputId": "b3da5c98-fd09-4006-c45a-9fbc449b371d"
   },
   "outputs": [
    {
     "name": "stdout",
     "output_type": "stream",
     "text": [
      "--2022-02-17 13:18:38--  https://raw.githubusercontent.com/zaidalyafeai/zaidalyafeai.github.io/master/sketcher/mini_classes.txt\n",
      "Resolving raw.githubusercontent.com (raw.githubusercontent.com)... 185.199.108.133, 185.199.111.133, 185.199.109.133, ...\n",
      "Connecting to raw.githubusercontent.com (raw.githubusercontent.com)|185.199.108.133|:443... connected.\n",
      "HTTP request sent, awaiting response... 200 OK\n",
      "Length: 760 [text/plain]\n",
      "Saving to: ‘mini_classes.txt’\n",
      "\n",
      "mini_classes.txt    100%[===================>]     760  --.-KB/s    in 0s      \n",
      "\n",
      "2022-02-17 13:18:38 (35.4 MB/s) - ‘mini_classes.txt’ saved [760/760]\n",
      "\n"
     ]
    }
   ],
   "source": [
    "!wget 'https://raw.githubusercontent.com/zaidalyafeai/zaidalyafeai.github.io/master/sketcher/mini_classes.txt'"
   ]
  },
  {
   "cell_type": "code",
   "execution_count": 6,
   "metadata": {
    "id": "sV08HaM8Pcx-"
   },
   "outputs": [],
   "source": [
    "with open(\"mini_classes.txt\",\"r\") as f:\n",
    "    classes = f.read()\n",
    "    f.close()\n",
    "classes = classes.split('\\n')"
   ]
  },
  {
   "cell_type": "markdown",
   "metadata": {},
   "source": [
    "Downloading data set"
   ]
  },
  {
   "cell_type": "code",
   "execution_count": 11,
   "metadata": {
    "colab": {
     "base_uri": "https://localhost:8080/"
    },
    "id": "Ij_kg-37Pinr",
    "outputId": "e5768c98-f01e-4e65-81e5-5e25e2aa5987"
   },
   "outputs": [
    {
     "name": "stdout",
     "output_type": "stream",
     "text": [
      "\n"
     ]
    }
   ],
   "source": [
    "base = 'https://storage.googleapis.com/quickdraw_dataset/full/numpy_bitmap/'\n",
    "os.mkdir('dataset')\n",
    "for c in classes:\n",
    "        cls_url = c.replace('_', '%20')\n",
    "        path = base + cls_url + '.npy'\n",
    "        try:\n",
    "          urllib.request.urlretrieve(path, 'dataset/'+c+'.npy')\n",
    "        except:\n",
    "          print(cls_url)"
   ]
  },
  {
   "cell_type": "code",
   "execution_count": 13,
   "metadata": {
    "id": "0rGo8dgsRggO"
   },
   "outputs": [],
   "source": [
    "from numpy.random.mtrand import rand\n",
    "def get_data():\n",
    "  tratio = 0.2\n",
    "  max_items = 4000\n",
    "  all_files = os.listdir('dataset/')\n",
    "  all_files = ['dataset/' + i for i in all_files]\n",
    "  x = np.empty([0,784])\n",
    "  y = np.empty([0])\n",
    "  class_names = []\n",
    "\n",
    "  for index, file_name in enumerate(all_files):\n",
    "    try:\n",
    "      data = np.load(file_name)\n",
    "      data = data[0:max_items,:]\n",
    "      labels = np.full(data.shape[0],index)\n",
    "\n",
    "      x = np.concatenate((x,data) , axis = 0 )\n",
    "      y = np.append(y,labels)\n",
    "      \n",
    "      class_name, ext = os.path.splitext(os.path.basename(file_name))\n",
    "      class_names.append(class_name)\n",
    "\n",
    "    except:\n",
    "      print(\"in except handeling\")\n",
    "\n",
    "  np.random.seed(1)\n",
    "  random_list = np.random.permutation(y.shape[0])\n",
    "  x = x[random_list,:]\n",
    "  y = y[random_list]\n",
    "\n",
    "  tratio = int(x.shape[0]*tratio)\n",
    "\n",
    "  x_test = x[:tratio,:]\n",
    "  y_test = y[:tratio]\n",
    "  x_train = x[tratio:,:]\n",
    "  y_train = y[tratio:]\n",
    "\n",
    "  return x_train,y_train,x_test,y_test,class_names\n"
   ]
  },
  {
   "cell_type": "code",
   "execution_count": 14,
   "metadata": {
    "id": "j2l7A64AZOku"
   },
   "outputs": [],
   "source": [
    "x_train,y_train,x_test,y_test,class_names = get_data()"
   ]
  },
  {
   "cell_type": "code",
   "execution_count": 15,
   "metadata": {
    "id": "f4qNkcFle0je"
   },
   "outputs": [],
   "source": [
    "#Reshaping data\n",
    "x_train = x_train.reshape(x_train.shape[0],28,28,1).astype('float32')\n",
    "x_test = x_test.reshape(x_test.shape[0],28,28,1).astype('float32')\n",
    "\n",
    "#Normilization\n",
    "x_train /= 255.0\n",
    "x_test /= 255.0\n"
   ]
  },
  {
   "cell_type": "code",
   "execution_count": 16,
   "metadata": {
    "id": "KY1cMYHAcisB"
   },
   "outputs": [],
   "source": [
    "num_classes = len(class_names)\n",
    "y_train = tf.keras.utils.to_categorical(y_train,num_classes)\n",
    "y_test = tf.keras.utils.to_categorical(y_test,num_classes)"
   ]
  },
  {
   "cell_type": "code",
   "execution_count": 110,
   "metadata": {
    "id": "lYMQQw-Fno6B"
   },
   "outputs": [],
   "source": [
    "model = tf.keras.Sequential()\n",
    "model.add(tf.keras.layers.Convolution2D(16, (3, 3),\n",
    "                        padding='same',\n",
    "                        input_shape=x_train.shape[1:], activation='relu'))\n",
    "model.add(tf.keras.layers.MaxPooling2D(pool_size=(2, 2)))\n",
    "model.add(tf.keras.layers.Convolution2D(32, (3, 3), padding='same', activation= 'relu'))\n",
    "model.add(tf.keras.layers.MaxPooling2D(pool_size=(2, 2)))\n",
    "model.add(tf.keras.layers.Convolution2D(64, (3, 3), padding='same', activation= 'relu'))\n",
    "model.add(tf.keras.layers.MaxPooling2D(pool_size =(2,2)))\n",
    "model.add(tf.keras.layers.Flatten())\n",
    "model.add(tf.keras.layers.Dense(128, activation='relu'))\n",
    "model.add(tf.keras.layers.Dense(100, activation='softmax')) "
   ]
  },
  {
   "cell_type": "code",
   "execution_count": 111,
   "metadata": {
    "colab": {
     "base_uri": "https://localhost:8080/"
    },
    "id": "RzuqoZPSoWbA",
    "outputId": "22297b53-0ffb-42e4-91b6-47af20b6f862"
   },
   "outputs": [
    {
     "name": "stdout",
     "output_type": "stream",
     "text": [
      "Model: \"sequential_2\"\n",
      "_________________________________________________________________\n",
      " Layer (type)                Output Shape              Param #   \n",
      "=================================================================\n",
      " conv2d_6 (Conv2D)           (None, 28, 28, 16)        160       \n",
      "                                                                 \n",
      " max_pooling2d_5 (MaxPooling  (None, 14, 14, 16)       0         \n",
      " 2D)                                                             \n",
      "                                                                 \n",
      " conv2d_7 (Conv2D)           (None, 14, 14, 32)        4640      \n",
      "                                                                 \n",
      " max_pooling2d_6 (MaxPooling  (None, 7, 7, 32)         0         \n",
      " 2D)                                                             \n",
      "                                                                 \n",
      " conv2d_8 (Conv2D)           (None, 7, 7, 64)          18496     \n",
      "                                                                 \n",
      " max_pooling2d_7 (MaxPooling  (None, 3, 3, 64)         0         \n",
      " 2D)                                                             \n",
      "                                                                 \n",
      " flatten_2 (Flatten)         (None, 576)               0         \n",
      "                                                                 \n",
      " dense_4 (Dense)             (None, 128)               73856     \n",
      "                                                                 \n",
      " dense_5 (Dense)             (None, 100)               12900     \n",
      "                                                                 \n",
      "=================================================================\n",
      "Total params: 110,052\n",
      "Trainable params: 110,052\n",
      "Non-trainable params: 0\n",
      "_________________________________________________________________\n",
      "None\n"
     ]
    }
   ],
   "source": [
    "model.compile(loss= 'categorical_crossentropy',\n",
    "              optimizer = tf.optimizers.Adam(),\n",
    "              metrics = ['top_k_categorical_accuracy'])\n",
    "print(model.summary())"
   ]
  },
  {
   "cell_type": "code",
   "execution_count": 112,
   "metadata": {
    "colab": {
     "base_uri": "https://localhost:8080/"
    },
    "id": "NiQ4TKa4wMTW",
    "outputId": "d46cfe81-54ad-4388-8e37-de4df9c1d5ba"
   },
   "outputs": [
    {
     "name": "stdout",
     "output_type": "stream",
     "text": [
      "Epoch 1/5\n",
      "1250/1250 [==============================] - 222s 177ms/step - loss: 1.8567 - top_k_categorical_accuracy: 0.7921\n",
      "Epoch 2/5\n",
      "1250/1250 [==============================] - 222s 178ms/step - loss: 1.2051 - top_k_categorical_accuracy: 0.8973\n",
      "Epoch 3/5\n",
      "1250/1250 [==============================] - 220s 176ms/step - loss: 1.0527 - top_k_categorical_accuracy: 0.9143\n",
      "Epoch 4/5\n",
      "1250/1250 [==============================] - 217s 174ms/step - loss: 0.9715 - top_k_categorical_accuracy: 0.9226\n",
      "Epoch 5/5\n",
      "1250/1250 [==============================] - 218s 174ms/step - loss: 0.9170 - top_k_categorical_accuracy: 0.9280\n"
     ]
    },
    {
     "data": {
      "text/plain": [
       "<keras.callbacks.History at 0x7fe2f983f2d0>"
      ]
     },
     "execution_count": 112,
     "metadata": {},
     "output_type": "execute_result"
    }
   ],
   "source": [
    "model.fit(x = x_train,y =  y_train ,batch_size = 256, epochs=5)"
   ]
  },
  {
   "cell_type": "markdown",
   "metadata": {},
   "source": [
    "Evaluating the test set"
   ]
  },
  {
   "cell_type": "code",
   "execution_count": 113,
   "metadata": {
    "colab": {
     "base_uri": "https://localhost:8080/"
    },
    "id": "e3-vPmSrv9Vi",
    "outputId": "bfedd037-4023-448f-9a3e-a6eadac47378"
   },
   "outputs": [
    {
     "name": "stdout",
     "output_type": "stream",
     "text": [
      "Test accuarcy: 92.36%\n"
     ]
    }
   ],
   "source": [
    "score = model.evaluate(x_test, y_test, verbose=0)\n",
    "print('Test accuarcy: {:0.2f}%'.format(score[1] * 100))"
   ]
  },
  {
   "cell_type": "markdown",
   "metadata": {},
   "source": [
    "Predict random test set"
   ]
  },
  {
   "cell_type": "code",
   "execution_count": 114,
   "metadata": {
    "colab": {
     "base_uri": "https://localhost:8080/",
     "height": 302
    },
    "id": "UfPJd09y8jyj",
    "outputId": "bea7a43f-845d-491b-9c68-e3caa881b863"
   },
   "outputs": [
    {
     "name": "stdout",
     "output_type": "stream",
     "text": [
      "eyeglasses\n"
     ]
    },
    {
     "data": {
      "text/plain": [
       "<matplotlib.image.AxesImage at 0x7fe2f3ba48d0>"
      ]
     },
     "execution_count": 114,
     "metadata": {},
     "output_type": "execute_result"
    },
    {
     "data": {
      "image/png": "[encoded data removed]",
      "text/plain": [
       "<Figure size 432x288 with 1 Axes>"
      ]
     },
     "metadata": {
      "needs_background": "light"
     },
     "output_type": "display_data"
    }
   ],
   "source": [
    "idx = random.randint(0, len(x_test))\n",
    "x_pred = np.reshape(x_test[idx],(1,28,28,1))\n",
    "result = model.predict(x_pred)\n",
    "index = np.argmax(result,axis =1)[0]\n",
    "print(class_names[index])\n",
    "plt.imshow(np.reshape(x_test[idx],(28,28)))"
   ]
  },
  {
   "cell_type": "code",
   "execution_count": 105,
   "metadata": {
    "id": "CYyk_27dOHBm"
   },
   "outputs": [],
   "source": []
  }
 ],
 "metadata": {
  "colab": {
   "collapsed_sections": [],
   "name": "Copy of Welcome To Colaboratory",
   "provenance": []
  },
  "kernelspec": {
   "display_name": "Python 3 (ipykernel)",
   "language": "python",
   "name": "python3"
  },
  "language_info": {
   "codemirror_mode": {
    "name": "ipython",
    "version": 3
   },
   "file_extension": ".py",
   "mimetype": "text/x-python",
   "name": "python",
   "nbconvert_exporter": "python",
   "pygments_lexer": "ipython3",
   "version": "3.8.10"
  }
 },
 "nbformat": 4,
 "nbformat_minor": 4
}
